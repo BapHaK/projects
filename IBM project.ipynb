{
 "cells": [
  {
   "cell_type": "markdown",
   "id": "9c0896b8-46df-4aac-90b5-369c8e1ca6ce",
   "metadata": {},
   "source": [
    "Test notebook"
   ]
  },
  {
   "cell_type": "markdown",
   "id": "f1e298ee-d19a-4718-b42a-e9cacc6f3f49",
   "metadata": {},
   "source": [
    "It's a project for IBM course"
   ]
  },
  {
   "cell_type": "markdown",
   "id": "5bf61560-00df-4a37-bbdd-2660d1845929",
   "metadata": {},
   "source": [
    "The most popular data science languages: Python, R, SQL"
   ]
  },
  {
   "cell_type": "markdown",
   "id": "2e0e6a99-218f-423c-8c1c-d26ffdd7baea",
   "metadata": {},
   "source": [
    "The main Python libraries for data science: NumPy, Pandas, SciPy"
   ]
  },
  {
   "cell_type": "markdown",
   "id": "520115ec-4da1-43c6-8ccc-ad39d58e5d7d",
   "metadata": {},
   "source": [
    "The main data Science tools: SAS, Apache Spark, BigML"
   ]
  },
  {
   "cell_type": "markdown",
   "id": "77e4934b-7a30-49a2-a3e9-e2f2bac10246",
   "metadata": {},
   "source": [
    "Arithmetic expression example: x = 2 + 3"
   ]
  },
  {
   "cell_type": "code",
   "execution_count": 1,
   "id": "c2a6830d-8ec9-4a12-bbb8-0241f0084eb0",
   "metadata": {},
   "outputs": [
    {
     "data": {
      "text/plain": [
       "6"
      ]
     },
     "execution_count": 1,
     "metadata": {},
     "output_type": "execute_result"
    }
   ],
   "source": [
    "x = 2 + 2 * 2\n",
    "x"
   ]
  },
  {
   "cell_type": "code",
   "execution_count": 2,
   "id": "1dc68e75-3cfd-4845-9692-ea1b5ae865d0",
   "metadata": {},
   "outputs": [
    {
     "name": "stdin",
     "output_type": "stream",
     "text": [
      "Enter minutes amount:  360\n"
     ]
    },
    {
     "data": {
      "text/plain": [
       "6.0"
      ]
     },
     "execution_count": 2,
     "metadata": {},
     "output_type": "execute_result"
    }
   ],
   "source": [
    "minutes = int(input('Enter minutes amount: '))\n",
    "hours = minutes / 60\n",
    "hours"
   ]
  },
  {
   "cell_type": "markdown",
   "id": "b8ee1c67-0b37-4c0f-89f1-74a7ded99abe",
   "metadata": {},
   "source": [
    "list Objectives"
   ]
  },
  {
   "cell_type": "markdown",
   "id": "856a5a32-8647-4d36-9650-ec4c69064f82",
   "metadata": {},
   "source": [
    "Authorth name: Yevgeniy"
   ]
  },
  {
   "cell_type": "code",
   "execution_count": null,
   "id": "62adb3b1-db49-41fb-bc9c-4efb07474d05",
   "metadata": {},
   "outputs": [],
   "source": []
  }
 ],
 "metadata": {
  "kernelspec": {
   "display_name": "Python 3 (ipykernel)",
   "language": "python",
   "name": "python3"
  },
  "language_info": {
   "codemirror_mode": {
    "name": "ipython",
    "version": 3
   },
   "file_extension": ".py",
   "mimetype": "text/x-python",
   "name": "python",
   "nbconvert_exporter": "python",
   "pygments_lexer": "ipython3",
   "version": "3.11.0"
  }
 },
 "nbformat": 4,
 "nbformat_minor": 5
}
