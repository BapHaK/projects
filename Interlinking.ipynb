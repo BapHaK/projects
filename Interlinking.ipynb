{
 "cells": [
  {
   "cell_type": "code",
   "execution_count": 3,
   "id": "f8d7df16-9dd0-4129-b8f1-b3e7be4ea54c",
   "metadata": {},
   "outputs": [
    {
     "data": {
      "text/html": [
       "<div>\n",
       "<style scoped>\n",
       "    .dataframe tbody tr th:only-of-type {\n",
       "        vertical-align: middle;\n",
       "    }\n",
       "\n",
       "    .dataframe tbody tr th {\n",
       "        vertical-align: top;\n",
       "    }\n",
       "\n",
       "    .dataframe thead th {\n",
       "        text-align: right;\n",
       "    }\n",
       "</style>\n",
       "<table border=\"1\" class=\"dataframe\">\n",
       "  <thead>\n",
       "    <tr style=\"text-align: right;\">\n",
       "      <th></th>\n",
       "      <th>breadcrumb_text_-1</th>\n",
       "      <th>breadcrumb_link_-1</th>\n",
       "      <th>breadcrumb_0_merged</th>\n",
       "      <th>page</th>\n",
       "      <th>clicks</th>\n",
       "      <th>impressions</th>\n",
       "      <th>ctr</th>\n",
       "      <th>position</th>\n",
       "    </tr>\n",
       "  </thead>\n",
       "  <tbody>\n",
       "    <tr>\n",
       "      <th>0</th>\n",
       "      <td>Pompe de caldura</td>\n",
       "      <td>https://www.romstal.ro/pompe-de-caldura-c14605...</td>\n",
       "      <td>Pompe de caldura : https://www.romstal.ro/pomp...</td>\n",
       "      <td>https://www.romstal.ro/pompe-de-caldura-c14605...</td>\n",
       "      <td>79550.0</td>\n",
       "      <td>834841.0</td>\n",
       "      <td>0.095288</td>\n",
       "      <td>4.023813</td>\n",
       "    </tr>\n",
       "    <tr>\n",
       "      <th>1</th>\n",
       "      <td>Panouri solare</td>\n",
       "      <td>https://www.romstal.ro/panouri-solare-c1460580...</td>\n",
       "      <td>Panouri solare cu tuburi : https://www.romstal...</td>\n",
       "      <td>https://www.romstal.ro/panouri-solare-c1460580...</td>\n",
       "      <td>38857.0</td>\n",
       "      <td>969330.0</td>\n",
       "      <td>0.040086</td>\n",
       "      <td>7.196781</td>\n",
       "    </tr>\n",
       "    <tr>\n",
       "      <th>2</th>\n",
       "      <td>Centrale termice pe gaz</td>\n",
       "      <td>https://www.romstal.ro/centrale-termice-pe-gaz...</td>\n",
       "      <td>Centrale incalzire si apa calda cu boiler inco...</td>\n",
       "      <td>https://www.romstal.ro/centrale-termice-pe-gaz...</td>\n",
       "      <td>37554.0</td>\n",
       "      <td>870321.0</td>\n",
       "      <td>0.043150</td>\n",
       "      <td>6.242506</td>\n",
       "    </tr>\n",
       "    <tr>\n",
       "      <th>3</th>\n",
       "      <td>Centrale si sobe pe lemne si peleti</td>\n",
       "      <td>https://www.romstal.ro/centrale-si-sobe-pe-lem...</td>\n",
       "      <td>Centrale pe lemne si peleti : https://www.roms...</td>\n",
       "      <td>https://www.romstal.ro/centrale-si-sobe-pe-lem...</td>\n",
       "      <td>24074.0</td>\n",
       "      <td>684446.0</td>\n",
       "      <td>0.035173</td>\n",
       "      <td>7.642832</td>\n",
       "    </tr>\n",
       "    <tr>\n",
       "      <th>4</th>\n",
       "      <td>Centrale electrice</td>\n",
       "      <td>https://www.romstal.ro/centrale-electrice-c146...</td>\n",
       "      <td>Centrale electrice trifazate : https://www.rom...</td>\n",
       "      <td>https://www.romstal.ro/centrale-electrice-c146...</td>\n",
       "      <td>23831.0</td>\n",
       "      <td>296256.0</td>\n",
       "      <td>0.080441</td>\n",
       "      <td>5.357826</td>\n",
       "    </tr>\n",
       "  </tbody>\n",
       "</table>\n",
       "</div>"
      ],
      "text/plain": [
       "                    breadcrumb_text_-1  \\\n",
       "0                     Pompe de caldura   \n",
       "1                       Panouri solare   \n",
       "2              Centrale termice pe gaz   \n",
       "3  Centrale si sobe pe lemne si peleti   \n",
       "4                   Centrale electrice   \n",
       "\n",
       "                                  breadcrumb_link_-1  \\\n",
       "0  https://www.romstal.ro/pompe-de-caldura-c14605...   \n",
       "1  https://www.romstal.ro/panouri-solare-c1460580...   \n",
       "2  https://www.romstal.ro/centrale-termice-pe-gaz...   \n",
       "3  https://www.romstal.ro/centrale-si-sobe-pe-lem...   \n",
       "4  https://www.romstal.ro/centrale-electrice-c146...   \n",
       "\n",
       "                                 breadcrumb_0_merged  \\\n",
       "0  Pompe de caldura : https://www.romstal.ro/pomp...   \n",
       "1  Panouri solare cu tuburi : https://www.romstal...   \n",
       "2  Centrale incalzire si apa calda cu boiler inco...   \n",
       "3  Centrale pe lemne si peleti : https://www.roms...   \n",
       "4  Centrale electrice trifazate : https://www.rom...   \n",
       "\n",
       "                                                page   clicks  impressions  \\\n",
       "0  https://www.romstal.ro/pompe-de-caldura-c14605...  79550.0     834841.0   \n",
       "1  https://www.romstal.ro/panouri-solare-c1460580...  38857.0     969330.0   \n",
       "2  https://www.romstal.ro/centrale-termice-pe-gaz...  37554.0     870321.0   \n",
       "3  https://www.romstal.ro/centrale-si-sobe-pe-lem...  24074.0     684446.0   \n",
       "4  https://www.romstal.ro/centrale-electrice-c146...  23831.0     296256.0   \n",
       "\n",
       "        ctr  position  \n",
       "0  0.095288  4.023813  \n",
       "1  0.040086  7.196781  \n",
       "2  0.043150  6.242506  \n",
       "3  0.035173  7.642832  \n",
       "4  0.080441  5.357826  "
      ]
     },
     "execution_count": 3,
     "metadata": {},
     "output_type": "execute_result"
    }
   ],
   "source": [
    "import pandas as pd\n",
    "import numpy as np\n",
    "\n",
    "file = pd.read_csv('interlinking_gsc - interlinking_gsc.csv.csv')\n",
    "file.head()"
   ]
  },
  {
   "cell_type": "code",
   "execution_count": 6,
   "id": "299e5fa0-5cef-4032-b926-28ea60aa4cb4",
   "metadata": {},
   "outputs": [
    {
     "data": {
      "text/plain": [
       "\"Pompe de caldura : https://www.romstal.ro/pompe-de-caldura-c1461999.html', 'Pompa de caldura sol-apa split, Stiebel Eltron, WPF 10, incalzire, 10 kW, 400V : https://www.romstal.ro/pompa-de-caldura-sol-apa-split-stiebel-eltron-wpf-10-incalzire-10-kw-400v.html', 'Sisteme termodinamice : https://www.romstal.ro/sisteme-termodinamice-c1460605.html', 'Pompa de caldura sol-apa split, Stiebel Eltron, WPF 10, incalzire, 10 kW, 400V : https://www.romstal.ro/pompa-de-caldura-sol-apa-split-stiebel-eltron-wpf-10-incalzire-10-kw-400v.html', 'Accesorii pompe de caldura : https://www.romstal.ro/accesorii-pompe-de-caldura-c1460609.html', 'Pompe de caldura : https://www.romstal.ro/pompe-de-caldura-c1461999.html', 'Sisteme piscine : https://www.romstal.ro/sisteme-piscine-c1460607.html', 'Pompa de caldura sol-apa split, Stiebel Eltron, WPF 10, incalzire, 10 kW, 400V : https://www.romstal.ro/pompa-de-caldura-sol-apa-split-stiebel-eltron-wpf-10-incalzire-10-kw-400v.html\""
      ]
     },
     "execution_count": 6,
     "metadata": {},
     "output_type": "execute_result"
    }
   ],
   "source": [
    "file.iloc[0,2]"
   ]
  },
  {
   "cell_type": "code",
   "execution_count": 158,
   "id": "874b9afe-170c-440e-9c88-ededd123c130",
   "metadata": {},
   "outputs": [
    {
     "name": "stdin",
     "output_type": "stream",
     "text": [
      "Enter a name of the original CSV file:  \n",
      "Enter a name of the cleaned CSV file:  \n"
     ]
    }
   ],
   "source": [
    "import pandas as pd\n",
    "import numpy as np\n",
    "\n",
    "original_name = input('Enter a name of the original CSV file: ')\n",
    "\n",
    "if len(original_name) == 0:\n",
    "\n",
    "    file = pd.read_csv('interlinking_gsc - interlinking_gsc.csv.csv')\n",
    "else: \n",
    "    file = pd.read_csv(original_name)\n",
    "    \n",
    "new_name = input('Enter a name of the cleaned CSV file: ')\n",
    "\n",
    "if len(new_name) == 0:\n",
    "\n",
    "    new_name = 'interlinking_gsc_cleaned.csv'\n",
    "\n",
    "\n",
    "\n",
    "def cleaning():\n",
    "\n",
    "#Choosing a cell and transform it to a list of content\n",
    "    \n",
    "    for i in file.index:\n",
    "        string = file.iloc[i,2]\n",
    "\n",
    "        list_of_content = string.split(', ')\n",
    "\n",
    "# I don't know why, but the cleaning cycle should running twice. If you run it once, some items still duplicated\n",
    "\n",
    "        for it in range(2):\n",
    "            ind = -1 # Index of current position in a list. We move from right to left\n",
    "            clone = list_of_content[:] # We make a clone of the list because we are deleting items from original list\n",
    "        \n",
    "\n",
    "            for content in clone:\n",
    "            \n",
    "# In the middle of the file Python can't take a 1st character from a string and notice a mistake. The string is correct\n",
    "# and if you try to get the charcter it works, but in if statement it doesn't work. I don't know why, but I use\n",
    "# try - except block to avoid it\n",
    "\n",
    "# It's needed to delete ' and \" marks from both sides of the content first to delete all of duplicates\n",
    "            \n",
    "                try:        \n",
    "                    if list_of_content[ind][0] == \"'\" or list_of_content[ind][0] == '\"':\n",
    "                        list_of_content[ind] = list_of_content[ind][1:]\n",
    "                    if list_of_content[ind][-1] == \"'\" or list_of_content[ind][-1] == '\"':\n",
    "                        list_of_content[ind] = list_of_content[ind][:-1]\n",
    "            \n",
    "            # Here we are checking duplicates and dropping them\n",
    "        \n",
    "                    if list_of_content[ind] in list_of_content[:ind]:\n",
    "                        list_of_content.pop(ind)\n",
    "                    else:                \n",
    "                        ind -= 1\n",
    "                except:\n",
    "            \n",
    "            # We dropping duplicates in case we delete ' and \" marks and in case we can't do that\n",
    "            \n",
    "                    if list_of_content[ind] in list_of_content[:ind]:\n",
    "                        list_of_content.pop(ind)\n",
    "                    else:                \n",
    "                        ind -= 1\n",
    "        \n",
    "        #Here we create a new string to put it into the cell\n",
    "        \n",
    "        new_string = ', '.join(list_of_content)\n",
    "    \n",
    "        file.iloc[i,2] = new_string\n",
    "    \n",
    "# Finnaly we print a new CSV file    \n",
    "\n",
    "    return(file.to_csv(new_name))\n",
    "\n",
    "cleaning()"
   ]
  },
  {
   "cell_type": "code",
   "execution_count": 80,
   "id": "d82e2583-c18d-4794-9a58-c993588b7d96",
   "metadata": {},
   "outputs": [
    {
     "name": "stdout",
     "output_type": "stream",
     "text": [
      "-------------------\n",
      "-------------------\n",
      "Pompe de caldura : https://www.romstal.ro/pompe-de-caldura-c1461999.html\n",
      "Pompa de caldura sol-apa split\n",
      "Stiebel Eltron\n",
      "WPF 10\n",
      "incalzire\n",
      "10 kW\n",
      "400V : https://www.romstal.ro/pompa-de-caldura-sol-apa-split-stiebel-eltron-wpf-10-incalzire-10-kw-400v.html\n",
      "Sisteme termodinamice : https://www.romstal.ro/sisteme-termodinamice-c1460605.html\n",
      "Accesorii pompe de caldura : https://www.romstal.ro/accesorii-pompe-de-caldura-c1460609.html\n",
      "Sisteme piscine : https://www.romstal.ro/sisteme-piscine-c1460607.html\n",
      "10\n",
      "False\n"
     ]
    }
   ],
   "source": [
    "for i in range(1):\n",
    "    string = file.iloc[i,2]\n",
    "    #print(string)\n",
    "    #print('\\n')\n",
    "    list_of_content = string.split(', ')\n",
    "\n",
    "    index = -1\n",
    "    clone = list_of_content[:]\n",
    "    \n",
    "    for content in clone:\n",
    "        \n",
    "        if list_of_content[index][0] == \"'\" or list_of_content[index][0] == '\"':\n",
    "            list_of_content[index] = list_of_content[index][1:]\n",
    "        if list_of_content[index][-1] == \"'\" or list_of_content[index][-1] == '\"':\n",
    "            list_of_content[index] = list_of_content[index][:-1]\n",
    "        #print(list_of_content[index])\n",
    "        \n",
    "        if list_of_content[index] in list_of_content[:index]:\n",
    "            list_of_content.pop(index)\n",
    "        else:\n",
    "            index -= 1\n",
    "    print('-------------------')\n",
    "    \n",
    "    index = 0\n",
    "    clone = list_of_content[:]\n",
    "    \n",
    "    for content in clone:\n",
    "    \n",
    "        if list_of_content[index] in list_of_content[:index]:\n",
    "            list_of_content.pop(index)\n",
    "        else:\n",
    "            index -= 1\n",
    "    print('-------------------')\n",
    "    \n",
    "    \n",
    "    for content in list_of_content:\n",
    "        print(content)\n",
    "    \n",
    "    \n",
    "    \n",
    "        \n",
    "    print(len(list_of_content))\n",
    "    print(list_of_content[0] == list_of_content[5])"
   ]
  },
  {
   "cell_type": "code",
   "execution_count": 73,
   "id": "cfffb19c-fe63-4a68-be73-f36f6e1c34e2",
   "metadata": {},
   "outputs": [
    {
     "ename": "IndentationError",
     "evalue": "unindent does not match any outer indentation level (<tokenize>, line 6)",
     "output_type": "error",
     "traceback": [
      "\u001b[0;36m  File \u001b[0;32m<tokenize>:6\u001b[0;36m\u001b[0m\n\u001b[0;31m    else:\u001b[0m\n\u001b[0m    ^\u001b[0m\n\u001b[0;31mIndentationError\u001b[0m\u001b[0;31m:\u001b[0m unindent does not match any outer indentation level\n"
     ]
    }
   ],
   "source": [
    "if list_of_content[index] in list_of_content[index + 1:]:\n",
    "            print(list_of_content[index])\n",
    "            print('--------------------')\n",
    "            del list_of_content[index]\n",
    "            print (list_of_content[index])\n",
    "        else:\n",
    "        #print(list_of_content[index])\n",
    "            index += 1\n",
    "        #print(list_of_content[index])\n",
    "        \n",
    "        #print(list_of_content[index])"
   ]
  },
  {
   "cell_type": "code",
   "execution_count": 104,
   "id": "b06301ab-b213-45f8-a82c-153ba6340374",
   "metadata": {},
   "outputs": [
    {
     "name": "stdout",
     "output_type": "stream",
     "text": [
      "Pompe de caldura : https://www.romstal.ro/pompe-de-caldura-c1461999.html'\n",
      "'Pompa de caldura sol-apa split\n",
      "Stiebel Eltron\n",
      "WPF 10\n",
      "incalzire\n",
      "10 kW\n",
      "400V : https://www.romstal.ro/pompa-de-caldura-sol-apa-split-stiebel-eltron-wpf-10-incalzire-10-kw-400v.html'\n",
      "'Sisteme termodinamice : https://www.romstal.ro/sisteme-termodinamice-c1460605.html'\n",
      "'Pompa de caldura sol-apa split\n",
      "Stiebel Eltron\n",
      "WPF 10\n",
      "incalzire\n",
      "10 kW\n",
      "400V : https://www.romstal.ro/pompa-de-caldura-sol-apa-split-stiebel-eltron-wpf-10-incalzire-10-kw-400v.html'\n",
      "'Accesorii pompe de caldura : https://www.romstal.ro/accesorii-pompe-de-caldura-c1460609.html'\n",
      "'Pompe de caldura : https://www.romstal.ro/pompe-de-caldura-c1461999.html'\n",
      "'Sisteme piscine : https://www.romstal.ro/sisteme-piscine-c1460607.html'\n",
      "'Pompa de caldura sol-apa split\n",
      "Stiebel Eltron\n",
      "WPF 10\n",
      "incalzire\n",
      "10 kW\n",
      "400V : https://www.romstal.ro/pompa-de-caldura-sol-apa-split-stiebel-eltron-wpf-10-incalzire-10-kw-400v.html\n"
     ]
    }
   ],
   "source": [
    "file = pd.read_csv('interlinking_gsc - interlinking_gsc.csv.csv')\n",
    "for i1 in file.iloc[0,2].split(', '):\n",
    "    print(i1)"
   ]
  },
  {
   "cell_type": "code",
   "execution_count": null,
   "id": "4972d450-d792-44f5-8a3d-48b401a1ac3b",
   "metadata": {},
   "outputs": [],
   "source": [
    "for i1 in file.iloc[0,2].split(', '):\n",
    "    print(i1)"
   ]
  },
  {
   "cell_type": "code",
   "execution_count": 141,
   "id": "eda10eab-8123-407a-8e38-df2403bbc8cd",
   "metadata": {},
   "outputs": [
    {
     "data": {
      "text/plain": [
       "\"Cuptor incorporabil Electrolux EOE7C31X, electric, 11 functii, Sense Cook, catalitic, negru/inox : https://www.romstal.ro/cuptor-incorporabil-electrolux-eoe7c31x-electric-11-functii-sense-cook-catalitic-negru-inox.html', 'Cuptor incorporabil Electrolux EOD5C70X,Electric,Autocuratare catalitica,72 l,Cls A,negru : https://www.romstal.ro/cuptor-incorporabil-electrolux-eod5c70x-electric-autocuratare-catalitica-72-l-cls-a-negru.html', 'CUPTOR INCORPORABIL ELECTROLUX EOG2102AOX, GAZ, CONVECTIE, 5 FUNCTII, AUTOCURATARE CATALITICA, 68L, CLASA A+, INOX ANTIAMPRENTA : https://www.romstal.ro/cuptor-incorporabil-electrolux-eog2102aox-gaz-convectie-5-functii-autocuratare-catalitica-68l-clasa-a-inox-antiamprenta.html', 'CUPTOR INCORPORABIL ELECTROLUX EOB8S39WZ, 21 FUNCTII, STEAM-BOOST, CONECTIVITATE WI-FI, 225 RETETE PREDEFINITE, , GRILL, 70L, CLASA A++, NEGRU : https://www.romstal.ro/cuptor-incorporabil-electrolux-eob8s39wz-21-functii-steam-boost-conectivitate-wi-fi-225-retete-predefinite-grill-70l-clasa-a-negru.html', 'Cuptor cu microunde incorporabil Electrolux LMS4253TMX, 25l, 900W, Grill, Timer, Avertizare : https://www.romstal.ro/cuptor-cu-microunde-incorporabil-electrolux-lms4253tmx-25l-900w-grill-timer-avertizare.html', 'Cuptor incorporabil Electrolux KOAAS31WX, Electric, 70 l, Multifunctional, Clasa A++, Wi-Fi, Inox/ Negru : https://www.romstal.ro/cuptor-incorporabil-electrolux-koaas31wx-electric-70-l-multifunctional-clasa-a-wi-fi-inox-negru.html', 'Cuptor incorporabil Electrolux EOA9S31CX, 25 functii, Sousvide, Wi-fi, CookNew, senzor gatire, grill, 70l, clasa A++, inox/ negru : https://www.romstal.ro/cuptor-incorporabil-electrolux-eoa9s31cx-25-functii-sousvide-wi-fi-cooknew-senzor-gatire-grill-70l-clasa-a-inox-negru.html', 'Cuptor incorporabil, Electrolux, EOD3C50TX, electric, 9 functii, 72 l, autocuratare catalitica, clasa A, inox : https://www.romstal.ro/cuptor-incorporabil-electrolux-eod3c50tx-electric-9-functii-72-l-autocuratare-catalitica-clasa-a-inox.html', 'Cuptor incorporabil Electrolux EOF5C50V, electric, SurroundCook, Grill, autocuratare catalitica, 72 l, clasa A, alb : https://www.romstal.ro/cuptor-incorporabil-electrolux-eof5c50v-electric-surroundcook-grill-autocuratare-catalitica-72-l-clasa-a-alb.html', 'Cuptor incorporabil Electrolux EOA5220AOV,rustic, electric, 72l, 9 functii, convectie, autocuratare catalitica, clasa A, alb/ crem : https://www.romstal.ro/cuptor-incorporabil-electrolux-eoa5220aov-rustic-electric-72l-9-functii-convectie-autocuratare-catalitica-clasa-a-alb-crem.html', 'Cuptor incorporabil Electrolux EOA5220AOV,rustic, electric, 72l, 9 functii, convectie, autocuratare catalitica, clasa A, alb/ crem : https://www.romstal.ro/cuptor-incorporabil-electrolux-eoa5220aov-rustic-electric-72l-9-functii-convectie-autocuratare-catalitica-clasa-a-alb-crem.html', 'Cuptor incorporabil Electrolux EZC2430EOX, clasa A+, 57l, electric, multifunctional, grill, timer, autocuratare pirolitica, inox antiamprenta : https://www.romstal.ro/cuptor-incorporabil-electrolux-ezc2430eox-clasa-a-57l-electric-multifunctional-grill-timer-autocuratare-pirolitica-inox-antiamprenta.html', 'Cuptor incorporabil, Electrolux, EOB9S31WX, Steam-Boost, 70 l, conectivitate Wi-Fi, touch control, clasa A++, negru : https://www.romstal.ro/cuptor-incorporabil-electrolux-eob9s31wx-steam-boost-70-l-conectivitate-wi-fi-touch-control-clasa-a-negru.html', 'Cuptor incorporabil traditional Electrolux EOB3400BOR, 72l, Electric, Grill, Clasa A, Negru : https://www.romstal.ro/cuptor-incorporabil-traditional-electrolux-eob3400bor-72l-electric-grill-clasa-a-negru.html\""
      ]
     },
     "execution_count": 141,
     "metadata": {},
     "output_type": "execute_result"
    }
   ],
   "source": [
    "file.iloc[742,2]"
   ]
  },
  {
   "cell_type": "code",
   "execution_count": null,
   "id": "3c063823-24dc-4163-ab43-0032cba1a09a",
   "metadata": {},
   "outputs": [],
   "source": []
  }
 ],
 "metadata": {
  "kernelspec": {
   "display_name": "Python 3 (ipykernel)",
   "language": "python",
   "name": "python3"
  },
  "language_info": {
   "codemirror_mode": {
    "name": "ipython",
    "version": 3
   },
   "file_extension": ".py",
   "mimetype": "text/x-python",
   "name": "python",
   "nbconvert_exporter": "python",
   "pygments_lexer": "ipython3",
   "version": "3.11.0"
  }
 },
 "nbformat": 4,
 "nbformat_minor": 5
}
